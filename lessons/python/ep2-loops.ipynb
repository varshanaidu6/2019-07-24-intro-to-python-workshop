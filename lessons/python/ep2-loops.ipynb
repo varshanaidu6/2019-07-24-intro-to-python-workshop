{
 "cells": [
  {
   "cell_type": "markdown",
   "metadata": {},
   "source": [
    "# Programming with Python\n",
    "\n",
    "## Episode 2 - Repeating Actions with Loops\n",
    "\n",
    "Teaching: 30 min, \n",
    "Exercises: 30 min "
   ]
  },
  {
   "cell_type": "markdown",
   "metadata": {},
   "source": [
    "\n",
    "\n",
    "### Objectives\n",
    "- Explain what a for loop does.\n",
    "- Correctly write for loops to repeat simple calculations.\n",
    "- Trace changes to a loop variable as the loop runs.\n",
    "- Trace changes to other variables as they are updated by a for loop."
   ]
  },
  {
   "cell_type": "markdown",
   "metadata": {},
   "source": [
    "### How can I do the same operations on many different values?\n",
    "\n",
    "In the last episode, we wrote some code that plots some values of interest from our first inflammation dataset (`inflammation-01.csv`, and revealed some suspicious features in it. \n",
    "\n",
    "\n",
    "We have a dozen data sets right now, though, and more on the way. We want to create plots for all of our data sets with a single statement. To do that, we’ll have to teach the computer how to repeat things.\n",
    "\n",
    "An example simple task that we might want to repeat is printing each character in a word on a line of its own. For example the if the variable `word` contains the string `lead`, we would like to print:\n",
    "\n",
    "```\n",
    "l\n",
    "e\n",
    "a\n",
    "d\n",
    "```\n",
    "\n",
    "In Python, a string is just an ordered collection of characters. In our example `l` `e` `a` `d`. Every character has a unique number associated with it – its index. This means that we can access characters in a string using their indices. For example, we can get the first character of the word `lead`, by using `word[0]`. One way to print each character is to use four print statements:\n",
    "\n",
    "```\n",
    "word = 'lead'\n",
    "print(word[0])\n",
    "print(word[1])\n",
    "print(word[2])\n",
    "print(word[3])\n",
    "```"
   ]
  },
  {
   "cell_type": "code",
   "execution_count": 2,
   "metadata": {},
   "outputs": [
    {
     "name": "stdout",
     "output_type": "stream",
     "text": [
      "l\n",
      "e\n",
      "a\n",
      "d\n"
     ]
    }
   ],
   "source": [
    "word = 'lead'\n",
    "print(word[0])\n",
    "print(word[1])\n",
    "print(word[2])\n",
    "print(word[3])"
   ]
  },
  {
   "cell_type": "markdown",
   "metadata": {},
   "source": [
    "This is a bad approach for three reasons:\n",
    "\n",
    "- Not scalable. Imagine you need to print characters of a string that is hundreds of letters long. It might be easier just to type them in manually.\n",
    "\n",
    "- Difficult to maintain. If we want to decorate each printed character with an asterix or any other character, we would have to change four lines of code. While this might not be a problem for short strings, it would definitely be a problem for longer ones.\n",
    "\n",
    "- Fragile. If we use it with a word that has more characters than what we initially envisioned, it will only display part of the word’s characters. A shorter string, on the other hand, will cause an error because it will be trying to display part of the string that don’t exist.\n",
    "\n",
    "```\n",
    "word = 'tin'\n",
    "print(word[0])\n",
    "print(word[1])\n",
    "print(word[2])\n",
    "print(word[3])\n",
    "```"
   ]
  },
  {
   "cell_type": "code",
   "execution_count": 1,
   "metadata": {},
   "outputs": [
    {
     "name": "stdout",
     "output_type": "stream",
     "text": [
      "t\n",
      "i\n",
      "n\n"
     ]
    },
    {
     "ename": "IndexError",
     "evalue": "string index out of range",
     "output_type": "error",
     "traceback": [
      "\u001b[0;31m---------------------------------------------------------------------------\u001b[0m",
      "\u001b[0;31mIndexError\u001b[0m                                Traceback (most recent call last)",
      "\u001b[0;32m<ipython-input-1-e59d5eac5430>\u001b[0m in \u001b[0;36m<module>\u001b[0;34m\u001b[0m\n\u001b[1;32m      3\u001b[0m \u001b[0mprint\u001b[0m\u001b[0;34m(\u001b[0m\u001b[0mword\u001b[0m\u001b[0;34m[\u001b[0m\u001b[0;36m1\u001b[0m\u001b[0;34m]\u001b[0m\u001b[0;34m)\u001b[0m\u001b[0;34m\u001b[0m\u001b[0;34m\u001b[0m\u001b[0m\n\u001b[1;32m      4\u001b[0m \u001b[0mprint\u001b[0m\u001b[0;34m(\u001b[0m\u001b[0mword\u001b[0m\u001b[0;34m[\u001b[0m\u001b[0;36m2\u001b[0m\u001b[0;34m]\u001b[0m\u001b[0;34m)\u001b[0m\u001b[0;34m\u001b[0m\u001b[0;34m\u001b[0m\u001b[0m\n\u001b[0;32m----> 5\u001b[0;31m \u001b[0mprint\u001b[0m\u001b[0;34m(\u001b[0m\u001b[0mword\u001b[0m\u001b[0;34m[\u001b[0m\u001b[0;36m3\u001b[0m\u001b[0;34m]\u001b[0m\u001b[0;34m)\u001b[0m\u001b[0;34m\u001b[0m\u001b[0;34m\u001b[0m\u001b[0m\n\u001b[0m",
      "\u001b[0;31mIndexError\u001b[0m: string index out of range"
     ]
    }
   ],
   "source": [
    "word = 'tin'\n",
    "print(word[0])\n",
    "print(word[1])\n",
    "print(word[2])\n",
    "print(word[3])"
   ]
  },
  {
   "cell_type": "markdown",
   "metadata": {},
   "source": [
    "Here’s a better approach:\n",
    "```\n",
    "word = 'lead'\n",
    "for char in word:\n",
    "    print(char)\n",
    "```"
   ]
  },
  {
   "cell_type": "code",
   "execution_count": 3,
   "metadata": {},
   "outputs": [
    {
     "name": "stdout",
     "output_type": "stream",
     "text": [
      "l\n",
      "e\n",
      "a\n",
      "d\n"
     ]
    }
   ],
   "source": [
    "word = 'lead'\n",
    "for char in word:\n",
    "    print(char)"
   ]
  },
  {
   "cell_type": "markdown",
   "metadata": {},
   "source": [
    "This is shorter — certainly shorter than something that prints every character in a hundred-letter string — and more robust as well:\n",
    "```\n",
    "word = 'oxygen'\n",
    "for char in word:\n",
    "    print(char)\n",
    "```\n",
    "\n",
    "The improved version uses a `for` loop to repeat an operation — in this case, printing letters — once for each thing in a sequence. "
   ]
  },
  {
   "cell_type": "code",
   "execution_count": 4,
   "metadata": {},
   "outputs": [
    {
     "name": "stdout",
     "output_type": "stream",
     "text": [
      "o\n",
      "x\n",
      "y\n",
      "g\n",
      "e\n",
      "n\n"
     ]
    }
   ],
   "source": [
    "word = 'oxygen'\n",
    "for char in word:\n",
    "    print(char)"
   ]
  },
  {
   "cell_type": "markdown",
   "metadata": {},
   "source": [
    "The general form of a `for` loop is:\n",
    "\n",
    "```\n",
    "for variable in collection:\n",
    "    # do things using variable, such as print\n",
    "```\n",
    "\n",
    "In our example, `char` is the variable, `word` is the collection being looped through and `print(char)` is the thing we want to do.\n",
    "\n",
    "We can call the loop variable anything we like, but there must be a colon `:` at the end of the line starting the loop, and we must *indent* anything we want to run inside the loop. Unlike many other languages, there is no syntax to signify the end of the loop body (e.g. `endfor`) - a loop ends when you stop indenting.\n",
    "\n",
    "```\n",
    "word = 'oxygen'\n",
    "for char in word:\n",
    "    print(char)\n",
    "    print(char)\n",
    "print(word)\n",
    "```\n"
   ]
  },
  {
   "cell_type": "code",
   "execution_count": 5,
   "metadata": {},
   "outputs": [
    {
     "name": "stdout",
     "output_type": "stream",
     "text": [
      "o\n",
      "o\n",
      "x\n",
      "x\n",
      "y\n",
      "y\n",
      "g\n",
      "g\n",
      "e\n",
      "e\n",
      "n\n",
      "n\n",
      "oxygen\n"
     ]
    }
   ],
   "source": [
    "word = 'oxygen'\n",
    "for char in word:\n",
    "    print(char)\n",
    "    print(char)\n",
    "print(word)"
   ]
  },
  {
   "cell_type": "markdown",
   "metadata": {},
   "source": [
    "#### What’s in a name?\n",
    "In the example above, the loop variable was given the name `char` as a mnemonic; it is short for *character*. We can choose any name we want for variables. We might just as easily have chosen the name `banana` for the loop variable, as long as we use the same name when we use the variable inside the loop:\n",
    "\n",
    "word = 'oxygen'\n",
    "for banana in word:\n",
    "    print(banana)\n",
    "\n",
    "It is a good idea to choose variable names that are meaningful, otherwise it would be more difficult to understand what the loop is doing."
   ]
  },
  {
   "cell_type": "code",
   "execution_count": null,
   "metadata": {},
   "outputs": [],
   "source": []
  },
  {
   "cell_type": "markdown",
   "metadata": {},
   "source": [
    "Here’s another loop that repeatedly updates a variable:\n",
    "```\n",
    "length = 0\n",
    "for vowel in 'aeiou':\n",
    "    length = length + 1\n",
    "print('There are', length, 'vowels')\n",
    "```"
   ]
  },
  {
   "cell_type": "code",
   "execution_count": 9,
   "metadata": {},
   "outputs": [
    {
     "name": "stdout",
     "output_type": "stream",
     "text": [
      "There are 5 vowels\n"
     ]
    }
   ],
   "source": [
    "length = 0\n",
    "for vowel in 'aeiou':\n",
    "    length = length + 1\n",
    "print('There are', length, 'vowels')"
   ]
  },
  {
   "cell_type": "markdown",
   "metadata": {},
   "source": [
    "It’s worth tracing the execution of this little program step by step. Since there are five characters in `'a'` `'e'` `'i'` `'o'` `'u'`, the statement on line 3 will be executed five times. \n",
    "At the start of the loop, `length` is `0` (zero) (the value assigned to it on line 1) and `vowel` is `'a'`. \n",
    "The statement *inside* the loop adds `1` to the old value of `length`, producing `1`, and assigns `length` the new value. The next time around, `vowel` is `'e'` and `length` is 1, so `length` is updated to be 2. After three more updates, 'length' is '5'; since there is nothing left in 'aeiou' for Python to process, the loop finishes and the `print` statement on line 4 tells us our final answer."
   ]
  },
  {
   "cell_type": "code",
   "execution_count": 12,
   "metadata": {},
   "outputs": [
    {
     "name": "stdout",
     "output_type": "stream",
     "text": [
      "1\n",
      "2\n",
      "3\n",
      "4\n",
      "5\n"
     ]
    }
   ],
   "source": [
    "l = 0 \n",
    "for i in 'aeiou':\n",
    "    l+=1\n",
    "    print(l)"
   ]
  },
  {
   "cell_type": "markdown",
   "metadata": {},
   "source": [
    "Note that a loop variable is just a variable that’s being used to record progress in a loop. It still exists after the loop is over, and we can re-use variables previously defined as loop variables as well:\n",
    "\n",
    "```\n",
    "letter = 'z'\n",
    "for letter in 'abc':\n",
    "    print(letter)\n",
    "print('after the loop, letter is', letter)\n",
    "```"
   ]
  },
  {
   "cell_type": "code",
   "execution_count": 16,
   "metadata": {},
   "outputs": [
    {
     "name": "stdout",
     "output_type": "stream",
     "text": [
      "Before the loop:letter= z\n",
      "inside the loop: letter= a\n",
      "inside the loop: letter= b\n",
      "inside the loop: letter= c\n",
      "after the loop, letter is c\n"
     ]
    }
   ],
   "source": [
    "letter = 'z'\n",
    "print('Before the loop:letter=', letter)\n",
    "for letter in 'abc':\n",
    "    print('inside the loop: letter=', letter)\n",
    "print('after the loop, letter is', letter)"
   ]
  },
  {
   "cell_type": "code",
   "execution_count": 17,
   "metadata": {},
   "outputs": [
    {
     "name": "stdout",
     "output_type": "stream",
     "text": [
      "Before the loop:letter= z\n",
      "inside the loop: letter= v\n",
      "inside the loop: letter= a\n",
      "inside the loop: letter= r\n",
      "inside the loop: letter= s\n",
      "inside the loop: letter= h\n",
      "inside the loop: letter= a\n",
      "after the loop, letter is a\n"
     ]
    }
   ],
   "source": [
    "letter = 'z'\n",
    "print('Before the loop:letter=', letter)\n",
    "for letter in 'varsha':\n",
    "    print('inside the loop: letter=', letter)\n",
    "print('after the loop, letter is', letter)"
   ]
  },
  {
   "cell_type": "markdown",
   "metadata": {},
   "source": [
    "Note also that finding the length of a string is such a common operation that Python actually has a built-in function to do it called `len`:\n",
    "\n",
    "```\n",
    "print(len('aeiou'))\n",
    "```\n",
    "\n",
    "`len` is much faster than any function we could write ourselves, and much easier to read than a two-line loop; it will also give us the length of many other things that we haven’t met yet, so we should always use it when we can."
   ]
  },
  {
   "cell_type": "code",
   "execution_count": null,
   "metadata": {},
   "outputs": [],
   "source": []
  },
  {
   "cell_type": "markdown",
   "metadata": {},
   "source": [
    "#### From 1 to n\n",
    "Python has a built-in function called `range` that generates a sequence of numbers. `range` can accept 1, 2, or 3 parameters:\n",
    "\n",
    "- if one parameter is given, `range` generates a sequence of that length, starting at zero and incrementing by 1. For example, `range(3)` produces the numbers 0, 1, 2.\n",
    "- if two parameters are given, `range` starts at the first and ends just before the second, incrementing by one. For example, `range(2, 5)` produces 2, 3, 4.\n",
    "- if 'range' is given 3 parameters, it starts at the first one, ends just before the second one, and increments by the third one. For example, 'range(3, 10, 2)' produces 3, 5, 7, 9."
   ]
  },
  {
   "cell_type": "code",
   "execution_count": null,
   "metadata": {},
   "outputs": [],
   "source": []
  },
  {
   "cell_type": "markdown",
   "metadata": {},
   "source": [
    "## Exercises"
   ]
  },
  {
   "cell_type": "markdown",
   "metadata": {},
   "source": [
    "#### Using ranges ...\n",
    "\n",
    "Using `range`, write a loop that uses range to print the first 3 natural numbers:\n",
    "\n",
    "```\n",
    "1\n",
    "2\n",
    "3\n",
    "```"
   ]
  },
  {
   "cell_type": "code",
   "execution_count": 36,
   "metadata": {},
   "outputs": [
    {
     "name": "stdout",
     "output_type": "stream",
     "text": [
      "1\n",
      "2\n",
      "3\n"
     ]
    }
   ],
   "source": [
    "for i in range (1, 4):\n",
    "    print(i)"
   ]
  },
  {
   "cell_type": "code",
   "execution_count": 37,
   "metadata": {},
   "outputs": [
    {
     "name": "stdout",
     "output_type": "stream",
     "text": [
      "0\n",
      "1\n",
      "2\n",
      "3\n",
      "4\n",
      "5\n",
      "6\n",
      "7\n",
      "8\n",
      "9\n",
      "range(0, 10)\n",
      "<class 'range'>\n"
     ]
    }
   ],
   "source": [
    "for number in range (10):\n",
    "    print (number)\n",
    "\n",
    "print(range(10))\n",
    "print(type(range(10)))"
   ]
  },
  {
   "cell_type": "code",
   "execution_count": 22,
   "metadata": {},
   "outputs": [
    {
     "name": "stdout",
     "output_type": "stream",
     "text": [
      "3\n",
      "4\n",
      "5\n",
      "6\n",
      "7\n",
      "8\n",
      "9\n"
     ]
    }
   ],
   "source": [
    "for i in range (3, 10):\n",
    "    print(i)"
   ]
  },
  {
   "cell_type": "markdown",
   "metadata": {},
   "source": [
    "#### Understanding loops\n",
    "\n",
    "Given the following loop:\n",
    "```\n",
    "word = 'oxygen'\n",
    "for char in word:\n",
    "    print(char)\n",
    "```\n",
    "\n",
    "How many times is the body of the loop executed?"
   ]
  },
  {
   "cell_type": "code",
   "execution_count": 38,
   "metadata": {},
   "outputs": [
    {
     "name": "stdout",
     "output_type": "stream",
     "text": [
      "o\n",
      "x\n",
      "y\n",
      "g\n",
      "e\n",
      "n\n"
     ]
    }
   ],
   "source": [
    "word = 'oxygen'\n",
    "for char in word:\n",
    "    print(char)"
   ]
  },
  {
   "cell_type": "code",
   "execution_count": null,
   "metadata": {},
   "outputs": [],
   "source": [
    "word ='oxygen'"
   ]
  },
  {
   "cell_type": "markdown",
   "metadata": {},
   "source": [
    "#### Computing Powers With Loops\n",
    "\n",
    "Exponentiation is built into Python:\n",
    "```\n",
    "print(5 ** 3)\n",
    "```\n",
    "produces 125.\n",
    "\n",
    "Write a loop that calculates the same result as `5 ** 3` using multiplication (and without exponentiation - ie 5 * 5 * 5).\n"
   ]
  },
  {
   "cell_type": "code",
   "execution_count": 42,
   "metadata": {},
   "outputs": [
    {
     "name": "stdout",
     "output_type": "stream",
     "text": [
      "1 25\n",
      "25\n",
      "2 125\n",
      "125\n",
      "3 625\n",
      "625\n"
     ]
    }
   ],
   "source": [
    "x=5 \n",
    "for i in range(1, 4):\n",
    "    x = x*5\n",
    "    print(i, x)\n",
    "    print(x)"
   ]
  },
  {
   "cell_type": "markdown",
   "metadata": {},
   "source": [
    "#### Reverse a String\n",
    "Knowing that two strings can be concatenated using the `+` operator:\n",
    "```\n",
    "print('a' + 'b')\n",
    "```\n",
    "write a loop that takes a string and produces a new string with the characters in reverse order, so 'Newton' becomes 'notweN'."
   ]
  },
  {
   "cell_type": "code",
   "execution_count": 43,
   "metadata": {},
   "outputs": [
    {
     "name": "stdout",
     "output_type": "stream",
     "text": [
      "ab\n"
     ]
    }
   ],
   "source": [
    "print('a' + 'b')"
   ]
  },
  {
   "cell_type": "code",
   "execution_count": 45,
   "metadata": {},
   "outputs": [
    {
     "name": "stdout",
     "output_type": "stream",
     "text": [
      "newton\n",
      "\n",
      "n\n",
      "en\n",
      "wen\n",
      "twen\n",
      "otwen\n",
      "notwen\n"
     ]
    }
   ],
   "source": [
    "string1 ='newton'\n",
    "print(string1)\n",
    "string2 =''\n",
    "print(string2)\n",
    "for char in string1:\n",
    "    string2= char + string2\n",
    "    print(string2)"
   ]
  },
  {
   "cell_type": "markdown",
   "metadata": {},
   "source": [
    "#### Computing the Value of a Polynomial\n",
    "\n",
    "The built-in function `enumerate` takes a sequence (e.g. a list) and generates a new sequence of the same length. Each element of the new sequence is a pair composed of the index and the value from the original sequence:\n",
    "```\n",
    "for i, j in enumerate([2.22, 4.44, 3.33]):\n",
    "  print('i =',i, 'j =', j)\n",
    "```"
   ]
  },
  {
   "cell_type": "code",
   "execution_count": 46,
   "metadata": {},
   "outputs": [
    {
     "name": "stdout",
     "output_type": "stream",
     "text": [
      "i = 0 j = 2.22\n",
      "i = 1 j = 4.44\n",
      "i = 2 j = 3.33\n"
     ]
    }
   ],
   "source": [
    "for i, j in enumerate([2.22, 4.44, 3.33]):\n",
    "  print('i =',i, 'j =', j)"
   ]
  },
  {
   "cell_type": "code",
   "execution_count": 47,
   "metadata": {},
   "outputs": [
    {
     "name": "stdout",
     "output_type": "stream",
     "text": [
      "[2.22, 4.44, 3.33]\n"
     ]
    }
   ],
   "source": [
    "list1 = [2.22, 4.44, 3.33]\n",
    "print(list1)"
   ]
  },
  {
   "cell_type": "code",
   "execution_count": 49,
   "metadata": {},
   "outputs": [
    {
     "name": "stdout",
     "output_type": "stream",
     "text": [
      "2.22\n"
     ]
    }
   ],
   "source": [
    "list1 = [2.22, 4.44, 3.33]\n",
    "print(list1[0])"
   ]
  },
  {
   "cell_type": "markdown",
   "metadata": {},
   "source": [
    "Suppose you have encoded a polynomial as a list of coefficients in the following way: \n",
    "\n",
    "The first element is the constant term (x^0), the second element is the coefficient of the linear term (x^1), the third is the coefficient of the quadratic term (x^2), etc.\n",
    "\n",
    "So to evaluate:\n",
    "\n",
    "```\n",
    "y = 2 + 4x + 3x^2\n",
    "```\n",
    "where x = 5, we could use the following code:\n",
    "```\n",
    "x = 5\n",
    "coefficients = [2, 4, 3]\n",
    "y = coefficients[0] * x**0 + coefficients[1] * x**1 + coefficients[2] * x**2\n",
    "print(y)\n",
    "```\n",
    "\n",
    "Try it - you should get the answer `97`."
   ]
  },
  {
   "cell_type": "code",
   "execution_count": 50,
   "metadata": {},
   "outputs": [
    {
     "name": "stdout",
     "output_type": "stream",
     "text": [
      "97\n"
     ]
    }
   ],
   "source": [
    "# coefficients formula:Y=CoX + CoX^1 + CoX^2\n",
    "x = 5\n",
    "coefficients = [2, 4, 3]\n",
    "y = coefficients[0] * x**0 + coefficients[1] * x**1 + coefficients[2] * x**2\n",
    "print(y)"
   ]
  },
  {
   "cell_type": "markdown",
   "metadata": {},
   "source": [
    "Now, write a loop using `enumerate` which computes the value y of any polynomial, given and x any coefficents.  Here's a starting templates ..."
   ]
  },
  {
   "cell_type": "code",
   "execution_count": 56,
   "metadata": {},
   "outputs": [
    {
     "name": "stdout",
     "output_type": "stream",
     "text": [
      "0 2\n",
      "2\n",
      "1 4\n",
      "22\n",
      "2 3\n",
      "97\n"
     ]
    }
   ],
   "source": [
    "y = 0\n",
    "x = 5 \n",
    "coefficient = [2, 4, 3]\n",
    "for i, c in enumerate(coefficient):\n",
    "    print(i, c)\n",
    "    y = y + c*x**i\n",
    "    print(y)"
   ]
  },
  {
   "cell_type": "markdown",
   "metadata": {},
   "source": [
    "## Key Points\n",
    "\n",
    "- Use `for variable in sequence` to process the elements of a sequence one at a time.\n",
    "- The body of a `for` loop must be indented.\n",
    "- Use `len(thing)` to determine the length of something that contains other values.\n",
    "\n"
   ]
  },
  {
   "cell_type": "markdown",
   "metadata": {},
   "source": [
    "### Save, and version control your changes\n",
    "\n",
    "- save your work: `File -> Save`\n",
    "- add all your changes to your local repository: `Terminal -> git add .`\n",
    "- commit your updates a new Git version:  `Terminal -> git commit -m \"End of Episode 2\"`\n",
    "- push your lastest commits to GitHub: `Terminal -> git push`"
   ]
  }
 ],
 "metadata": {
  "kernelspec": {
   "display_name": "Python 3",
   "language": "python",
   "name": "python3"
  },
  "language_info": {
   "codemirror_mode": {
    "name": "ipython",
    "version": 3
   },
   "file_extension": ".py",
   "mimetype": "text/x-python",
   "name": "python",
   "nbconvert_exporter": "python",
   "pygments_lexer": "ipython3",
   "version": "3.7.3"
  }
 },
 "nbformat": 4,
 "nbformat_minor": 2
}
