{
 "cells": [
  {
   "cell_type": "markdown",
   "metadata": {},
   "source": [
    "# Software Carpentry\n",
    "\n",
    "# Welcome to Binder\n",
    "\n",
    "This is where will do all our Python, Shell and Git live coding.\n",
    "\n"
   ]
  },
  {
   "cell_type": "markdown",
   "metadata": {},
   "source": [
    "## Jupyter Lab\n",
    "\n",
    "Let's quickly familiarise ourselves with the enironment ... \n",
    "\n",
    "- the overal environment (ie your entire browser tab) is called:\n",
    "\n",
    "  *Jupyter Lab*\n",
    "  \n",
    "  it contains menus, tabs, toolbars and a file browser\n",
    "  \n",
    "- Jupyter Lab allows you to *launch* files and application into the *Work Area*.   Right now you probably have two tabs in the *Work Area* - this document an another tab called *Launcher*.\n",
    "  \n",
    "\n"
   ]
  },
  {
   "cell_type": "markdown",
   "metadata": {},
   "source": [
    "## Juptyer Notebooks\n",
    "\n",
    "- this document is document is called an:\n",
    "\n",
    "  *Interactive Python Notebook* (or Notebook for short)\n",
    "\n",
    "Notebooks are a documents (files) made up of a sequence of *cells* that contain either code (python in our case) or documentation (text, or formatted text called *markdown*).\n"
   ]
  },
  {
   "cell_type": "markdown",
   "metadata": {},
   "source": [
    "### Cells\n",
    "\n",
    "The three types of Cells are:\n",
    "\n",
    "  - *Markdown* - formatted text like this cell (with *italics*, **bold** and tables etc ...)\n",
    "  - *Raw* - like the following cell, and\n",
    "  - *Code* - (in our case) python code \n",
    "\n",
    "Cells can be modified by simply clicking inside them and typing.\n",
    "\n",
    "See if you can change the cell below by replacing *boring* with something more exciting."
   ]
  },
  {
   "cell_type": "raw",
   "metadata": {},
   "source": [
    "RAW CELL Intro to Github\n",
    "\n",
    "This Cell is a 'Raw' Cell - it's just boring text."
   ]
  },
  {
   "cell_type": "markdown",
   "metadata": {},
   "source": [
    "#### Executing Cells\n",
    "\n",
    "Both *markdown* and *code* cells can be excuted,\n",
    "\n",
    "Excuting a *markdown* causes the *formatted* version of the cell to be displayed.  Excuting a *code* cell causes the code to run and any results are displayed below the cell.\n",
    "\n",
    "Any cell can be executed by pressing the play icon at the top of the document while the cell is highlighted.\n",
    "\n",
    "You can also press **CTL-ENTER** to excute the active cell.\n",
    "\n",
    "Go ahead and make some more changes to the cells above and execute them - what happens when you execute a *Raw* cell ?"
   ]
  },
  {
   "cell_type": "markdown",
   "metadata": {},
   "source": [
    "#### Adding a Removing Cells\n",
    "\n",
    "You can use the `+` (plus icon) at the top of the docuement to add a new cell, and the cell type drop down the change the type.\n",
    "\n",
    "You can also use the A key to add cell *above* the current cell and the B key to add *below* the current cell.\n",
    "\n",
    "\n",
    "Now add a couple of cell of your own ..."
   ]
  },
  {
   "cell_type": "raw",
   "metadata": {},
   "source": [
    "\n",
    "\n",
    "see if you can delete this cell - tip, checkout the *Edit* menu ... or even try right-click\n",
    "\n"
   ]
  },
  {
   "cell_type": "code",
   "execution_count": null,
   "metadata": {},
   "outputs": [],
   "source": []
  },
  {
   "cell_type": "code",
   "execution_count": null,
   "metadata": {},
   "outputs": [],
   "source": []
  },
  {
   "cell_type": "markdown",
   "metadata": {},
   "source": [
    "#### Code Cells\n",
    "\n",
    "Code cells allow us to write (in our case Python) and run our code and see the results right inside the notebook.\n",
    "\n",
    "The next cell is a code cell that contains Python code to add 4 numbers.\n",
    "\n",
    "Try executing the cell and if get the right result, try some more/different numbers\n"
   ]
  },
  {
   "cell_type": "code",
   "execution_count": 2,
   "metadata": {},
   "outputs": [
    {
     "data": {
      "text/plain": [
       "11"
      ]
     },
     "execution_count": 2,
     "metadata": {},
     "output_type": "execute_result"
    }
   ],
   "source": [
    "1 + 2 + 3 + 4 + 1"
   ]
  },
  {
   "cell_type": "markdown",
   "metadata": {},
   "source": [
    "## Let's save our work so for and Push to our changes to GitHub\n",
    "\n",
    "### Saving\n",
    "\n",
    "By pressing the save icon on the document (or File -> Save Notebook) we can save our work to our Binder environment.\n",
    "\n",
    "\n",
    "### But what about Version Control and Git (wasn't that in the Workshop syllabus)\n",
    "\n",
    "Since our binder environment will dissappear when we are no longer using is, we need cause our new version to be saved some where permanent.\n",
    "\n",
    "Luckly we have a GitHub respository already connected to our current environment - however there are couple steps required to make our GitHub repository match the copy of the respository inside our Binder environment.\n",
    "\n",
    "#### Git likes to know how you are\n",
    "\n",
    "... otherwise it keeps complaining it cannot track who made what commits (changes).\n",
    "\n",
    "To tell Git who you are, we need to do the following:\n",
    "\n",
    "- Launch a Terminal sesson (File -> New -> Terminal, or you can use the *Laucher* tab\n",
    "- At the command prompt, type: `git-setup`\n",
    "  \n",
    "This operation only needs to be done once per binder session.\n",
    "\n",
    "#### Add your changed files to git's list of files to track\n",
    "\n",
    "- at the same terminal prompt type: `git add .`\n",
    "  \n",
    "#### Tell Git to commit (record) this state as a version\n",
    "\n",
    "- at the same terminal prompt type: `git commit -m \"changes made inside binder\"`\n",
    "\n",
    "at this point git has added an additional version of your files to your repository inside your curren Binder environment.  However, your repository on GitHub remains unchanges (you might like to go check).\n",
    "\n",
    "#### Tell Git to push the new commit (version) to GitHub\n",
    "\n",
    "- again at the same prompt type: `git push`\n",
    "\n",
    "once you supply the correct GitHub usename and password, all your changes will be pushed.\n",
    "\n",
    "Go check out your respository on github.com ...\n",
    "\n"
   ]
  },
  {
   "cell_type": "code",
   "execution_count": null,
   "metadata": {},
   "outputs": [],
   "source": []
  }
 ],
 "metadata": {
  "kernelspec": {
   "display_name": "Python 3",
   "language": "python",
   "name": "python3"
  },
  "language_info": {
   "codemirror_mode": {
    "name": "ipython",
    "version": 3
   },
   "file_extension": ".py",
   "mimetype": "text/x-python",
   "name": "python",
   "nbconvert_exporter": "python",
   "pygments_lexer": "ipython3",
   "version": "3.7.3"
  }
 },
 "nbformat": 4,
 "nbformat_minor": 2
}
